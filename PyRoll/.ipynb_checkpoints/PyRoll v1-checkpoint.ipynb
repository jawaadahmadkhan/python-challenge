{
 "cells": [
  {
   "cell_type": "code",
   "execution_count": 29,
   "metadata": {},
   "outputs": [],
   "source": [
    "import os\n",
    "import csv"
   ]
  },
  {
   "cell_type": "code",
   "execution_count": 10,
   "metadata": {},
   "outputs": [
    {
     "data": {
      "text/plain": [
       "<function TextIOWrapper.close()>"
      ]
     },
     "execution_count": 10,
     "metadata": {},
     "output_type": "execute_result"
    }
   ],
   "source": [
    "csvpath = os.path.join('.','Resources','election_data.csv')\n",
    "\n",
    "csvfile=open(file=csvpath,newline='')\n",
    "csvfile.close"
   ]
  },
  {
   "cell_type": "code",
   "execution_count": 28,
   "metadata": {},
   "outputs": [
    {
     "name": "stdout",
     "output_type": "stream",
     "text": [
      "\n",
      "Election Results\n",
      "-------------------------\n",
      "Total Votes: 3521001\n",
      "-------------------------\n",
      "Khan: 63.000% (2218231)\n",
      "Correy: 20.000% (704200)\n",
      "Li: 14.000% (492940)\n",
      "O'Tooley: 3.000% (105630)\n",
      "-------------------------\n",
      "Winner: Khan\n",
      "-------------------------\n",
      "\n"
     ]
    }
   ],
   "source": [
    "total = 0\n",
    "\n",
    "candidates = []\n",
    "candidate_votes = {}\n",
    "\n",
    "winner = \"\"\n",
    "winner_count = 0\n",
    "\n",
    "with open(file=csvpath,newline='') as election_data:\n",
    "    reader=csv.DictReader(election_data)\n",
    "    \n",
    "    for i in reader:\n",
    "        total = total + 1\n",
    "        candidate_name = i[\"Candidate\"]\n",
    "        \n",
    "        if candidate_name not in candidates:\n",
    "            candidates.append(candidate_name)\n",
    "            candidate_votes[candidate_name] = 0\n",
    "            \n",
    "        candidate_votes[candidate_name] = candidate_votes[candidate_name] + 1\n",
    "        \n",
    "analysis_path = os.path.join('.','Analysis','election_analysis.txt')\n",
    "\n",
    "with open(analysis_path,\"w\") as txt_file:\n",
    "    election_results = (\n",
    "    f'\\nElection Results\\n'\n",
    "    f'-------------------------\\n'\n",
    "    f'Total Votes: {total}\\n'\n",
    "    f'-------------------------\\n'\n",
    "    )\n",
    "    print(election_results,end=\"\")\n",
    "    \n",
    "    txt_file.write(election_results)\n",
    "    \n",
    "    for candidate in candidate_votes:\n",
    "        votes = candidate_votes.get(candidate)\n",
    "        vote_percentage = float(votes) / float(total) * 100\n",
    "        \n",
    "        if (votes > winner_count):\n",
    "            winner_count = votes\n",
    "            winner = candidate\n",
    "            \n",
    "        voter_analysis = f'{candidate}: {vote_percentage:.3f}% ({votes})\\n'\n",
    "        print (voter_analysis,end='')\n",
    "        \n",
    "        txt_file.write(voter_analysis)\n",
    "    \n",
    "    winner_summary = (\n",
    "        f'-------------------------\\n'\n",
    "        f'Winner: {winner}\\n'\n",
    "        f'-------------------------\\n')\n",
    "    print(winner_summary)\n",
    "    \n",
    "    txt_file.write(winner_summary)\n",
    "    "
   ]
  },
  {
   "cell_type": "code",
   "execution_count": null,
   "metadata": {},
   "outputs": [],
   "source": []
  }
 ],
 "metadata": {
  "kernelspec": {
   "display_name": "Python 3",
   "language": "python",
   "name": "python3"
  },
  "language_info": {
   "codemirror_mode": {
    "name": "ipython",
    "version": 3
   },
   "file_extension": ".py",
   "mimetype": "text/x-python",
   "name": "python",
   "nbconvert_exporter": "python",
   "pygments_lexer": "ipython3",
   "version": "3.8.3"
  }
 },
 "nbformat": 4,
 "nbformat_minor": 4
}
