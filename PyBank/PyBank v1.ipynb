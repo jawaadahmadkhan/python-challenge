{
 "cells": [
  {
   "cell_type": "code",
   "execution_count": 20,
   "metadata": {},
   "outputs": [],
   "source": [
    "import os\n",
    "import csv"
   ]
  },
  {
   "cell_type": "code",
   "execution_count": 36,
   "metadata": {},
   "outputs": [],
   "source": [
    "csvpath = os.path.join('.', 'Resources', 'budget_data.csv')"
   ]
  },
  {
   "cell_type": "code",
   "execution_count": 88,
   "metadata": {},
   "outputs": [
    {
     "data": {
      "text/plain": [
       "<function TextIOWrapper.close()>"
      ]
     },
     "execution_count": 88,
     "metadata": {},
     "output_type": "execute_result"
    }
   ],
   "source": [
    "csvfile=open(file=csvpath,newline='')\n",
    "csvfile.close"
   ]
  },
  {
   "cell_type": "code",
   "execution_count": 86,
   "metadata": {},
   "outputs": [
    {
     "name": "stdout",
     "output_type": "stream",
     "text": [
      "\n",
      "Financial Analysis\n",
      "-----------------------------\n",
      "Total Months: 86\n",
      "Total: $ 38382578\n",
      "Average Change: $-2315.12\n",
      "Greatest Increase in Revenue: Feb-2012 ($1926159\n",
      "Greatest Decrease in Revenue: Sep-2013 ($-2196167\n",
      "\n"
     ]
    }
   ],
   "source": [
    "months = 0\n",
    "total = 0\n",
    "prev_rev = 0\n",
    "month_of_change = []\n",
    "rev_change_list = []\n",
    "greatest_increase = [\"\",0]\n",
    "greatest_decrease = [\"\",99999999999999999]\n",
    "\n",
    "with open(file=csvpath, newline='') as csvfile:\n",
    "    csvreader=csv.reader(csvfile,delimiter=',')\n",
    "    \n",
    "    # Read the header row first\n",
    "    csv_header = next(csvreader)\n",
    "    \n",
    "    for i in csvreader:\n",
    "        months = months + 1\n",
    "        month = i[0]\n",
    "        amount = i[1]\n",
    "        int_amount = int(amount)\n",
    "        \n",
    "        #Revenue Change\n",
    "        rev_change = int(amount) - prev_rev\n",
    "        prev_rev = int(amount)\n",
    "        rev_change_list = rev_change_list + [rev_change]\n",
    "        month_of_change = month_of_change + [month]\n",
    "        prev_rev = int_amount\n",
    "        \n",
    "        #Greatest Increase\n",
    "        if (rev_change > greatest_increase[1]):\n",
    "            greatest_increase[0] = month\n",
    "            greatest_increase[1] = rev_change\n",
    "        \n",
    "        #Greatest Decrease\n",
    "        if (rev_change < greatest_decrease[1]):\n",
    "            greatest_decrease[0] = month\n",
    "            greatest_decrease[1] = rev_change\n",
    "        \n",
    "        total += int(amount)\n",
    "        \n",
    "\n",
    "        \n",
    "revenue_avg = sum(rev_change_list[1:]) / len(rev_change_list[1:])\n",
    "\n",
    "output = (\n",
    "    f'\\nFinancial Analysis\\n'\n",
    "    f'-----------------------------\\n'\n",
    "    \n",
    "    f'Total Months: {months}\\n'\n",
    "    f'Total: $ {total}\\n'\n",
    "    f'Average Change: ${round(revenue_avg,2)}\\n'\n",
    "    f'Greatest Increase in Revenue: {greatest_increase[0]} (${greatest_increase[1]}\\n'\n",
    "    f'Greatest Decrease in Revenue: {greatest_decrease[0]} (${greatest_decrease[1]}\\n')\n",
    "    \n",
    "print(output)"
   ]
  },
  {
   "cell_type": "code",
   "execution_count": 87,
   "metadata": {},
   "outputs": [],
   "source": [
    "output_path = os.path.join('.','Analysis','budget_analysis.txt')\n",
    "with open(output_path,\"w\") as txt_file:\n",
    "    txt_file.write(output)"
   ]
  },
  {
   "cell_type": "code",
   "execution_count": null,
   "metadata": {},
   "outputs": [],
   "source": []
  }
 ],
 "metadata": {
  "kernelspec": {
   "display_name": "Python 3",
   "language": "python",
   "name": "python3"
  },
  "language_info": {
   "codemirror_mode": {
    "name": "ipython",
    "version": 3
   },
   "file_extension": ".py",
   "mimetype": "text/x-python",
   "name": "python",
   "nbconvert_exporter": "python",
   "pygments_lexer": "ipython3",
   "version": "3.8.3"
  }
 },
 "nbformat": 4,
 "nbformat_minor": 4
}
